{
  "nbformat": 4,
  "nbformat_minor": 0,
  "metadata": {
    "colab": {
      "name": "Ujian ML JCDS07.ipynb",
      "provenance": [],
      "collapsed_sections": [],
      "toc_visible": true
    },
    "kernelspec": {
      "name": "python3",
      "display_name": "Python 3"
    }
  },
  "cells": [
    {
      "cell_type": "code",
      "metadata": {
        "id": "wg94zuJtMFRi",
        "colab_type": "code",
        "colab": {}
      },
      "source": [
        "import pandas as pd\n",
        "import numpy as np\n",
        "import matplotlib.pyplot as plt\n",
        "import seaborn as sns"
      ],
      "execution_count": 0,
      "outputs": []
    },
    {
      "cell_type": "markdown",
      "metadata": {
        "id": "xXDNge2OPYWt",
        "colab_type": "text"
      },
      "source": [
        "## Data Preprocessing"
      ]
    },
    {
      "cell_type": "markdown",
      "metadata": {
        "id": "R1ErHWQbbaRK",
        "colab_type": "text"
      },
      "source": [
        "### Data Loading"
      ]
    },
    {
      "cell_type": "code",
      "metadata": {
        "id": "C_7QwuS_MW_Y",
        "colab_type": "code",
        "colab": {}
      },
      "source": [
        "df = pd.read_csv(\"nba.csv\")\n",
        "df = df[[\"age\",\"player_height\",\"player_weight\",\"pts\",\"reb\"]]\n",
        "df.columns =[\"age\",\"height\",\"weight\",\"pts\",\"reb\"]\n"
      ],
      "execution_count": 0,
      "outputs": []
    },
    {
      "cell_type": "markdown",
      "metadata": {
        "id": "ceWkQ1XHQyh0",
        "colab_type": "text"
      },
      "source": [
        ""
      ]
    },
    {
      "cell_type": "markdown",
      "metadata": {
        "id": "Cy3uOqN1Qy2V",
        "colab_type": "text"
      },
      "source": [
        ""
      ]
    },
    {
      "cell_type": "code",
      "metadata": {
        "id": "QgsAunkkYIYt",
        "colab_type": "code",
        "outputId": "059f3d6d-bec3-4012-b3d1-d11da845c1cc",
        "colab": {
          "base_uri": "https://localhost:8080/",
          "height": 204
        }
      },
      "source": [
        "df.tail(5)"
      ],
      "execution_count": 7,
      "outputs": [
        {
          "output_type": "execute_result",
          "data": {
            "text/html": [
              "<div>\n",
              "<style scoped>\n",
              "    .dataframe tbody tr th:only-of-type {\n",
              "        vertical-align: middle;\n",
              "    }\n",
              "\n",
              "    .dataframe tbody tr th {\n",
              "        vertical-align: top;\n",
              "    }\n",
              "\n",
              "    .dataframe thead th {\n",
              "        text-align: right;\n",
              "    }\n",
              "</style>\n",
              "<table border=\"1\" class=\"dataframe\">\n",
              "  <thead>\n",
              "    <tr style=\"text-align: right;\">\n",
              "      <th></th>\n",
              "      <th>age</th>\n",
              "      <th>height</th>\n",
              "      <th>weight</th>\n",
              "      <th>pts</th>\n",
              "      <th>reb</th>\n",
              "    </tr>\n",
              "  </thead>\n",
              "  <tbody>\n",
              "    <tr>\n",
              "      <th>11140</th>\n",
              "      <td>28.0</td>\n",
              "      <td>208.28</td>\n",
              "      <td>108.862080</td>\n",
              "      <td>9.1</td>\n",
              "      <td>5.4</td>\n",
              "    </tr>\n",
              "    <tr>\n",
              "      <th>11141</th>\n",
              "      <td>23.0</td>\n",
              "      <td>195.58</td>\n",
              "      <td>97.522280</td>\n",
              "      <td>1.2</td>\n",
              "      <td>0.3</td>\n",
              "    </tr>\n",
              "    <tr>\n",
              "      <th>11142</th>\n",
              "      <td>28.0</td>\n",
              "      <td>213.36</td>\n",
              "      <td>117.933920</td>\n",
              "      <td>6.1</td>\n",
              "      <td>5.1</td>\n",
              "    </tr>\n",
              "    <tr>\n",
              "      <th>11143</th>\n",
              "      <td>27.0</td>\n",
              "      <td>208.28</td>\n",
              "      <td>104.779752</td>\n",
              "      <td>2.1</td>\n",
              "      <td>3.0</td>\n",
              "    </tr>\n",
              "    <tr>\n",
              "      <th>11144</th>\n",
              "      <td>25.0</td>\n",
              "      <td>193.04</td>\n",
              "      <td>86.182480</td>\n",
              "      <td>4.5</td>\n",
              "      <td>1.4</td>\n",
              "    </tr>\n",
              "  </tbody>\n",
              "</table>\n",
              "</div>"
            ],
            "text/plain": [
              "        age  height      weight  pts  reb\n",
              "11140  28.0  208.28  108.862080  9.1  5.4\n",
              "11141  23.0  195.58   97.522280  1.2  0.3\n",
              "11142  28.0  213.36  117.933920  6.1  5.1\n",
              "11143  27.0  208.28  104.779752  2.1  3.0\n",
              "11144  25.0  193.04   86.182480  4.5  1.4"
            ]
          },
          "metadata": {
            "tags": []
          },
          "execution_count": 7
        }
      ]
    },
    {
      "cell_type": "code",
      "metadata": {
        "id": "PsabUZPV9P0t",
        "colab_type": "code",
        "colab": {}
      },
      "source": [
        "def outlier(column):\n",
        "  mean = df[column].mean() \n",
        "  std = df[column].std()\n",
        "  df[column + \" Out\"]=df[column].apply(lambda x: 1 if (x > mean+3*std) or (x < mean-3*std) else 0)"
      ],
      "execution_count": 0,
      "outputs": []
    },
    {
      "cell_type": "code",
      "metadata": {
        "id": "ntW4_prX-iEF",
        "colab_type": "code",
        "colab": {}
      },
      "source": [
        "for i in df.columns:\n",
        "  outlier(i)"
      ],
      "execution_count": 0,
      "outputs": []
    },
    {
      "cell_type": "code",
      "metadata": {
        "id": "o1uHOIMmAiNa",
        "colab_type": "code",
        "colab": {}
      },
      "source": [
        "def hitung(kolom):\n",
        "  out = len(df[df[kolom] == 1])\n",
        "  return print(kolom, f\": {out}\")"
      ],
      "execution_count": 0,
      "outputs": []
    },
    {
      "cell_type": "code",
      "metadata": {
        "id": "R4hABJLHA_eK",
        "colab_type": "code",
        "outputId": "a549064e-5473-4bfb-b0d8-e72073f0bf39",
        "colab": {
          "base_uri": "https://localhost:8080/",
          "height": 102
        }
      },
      "source": [
        "kol = [\"age Out\",\"height Out\",\"weight Out\",\"pts Out\",\"reb Out\"]\n",
        "for i in kol:\n",
        "  hitung(i)"
      ],
      "execution_count": 11,
      "outputs": [
        {
          "output_type": "stream",
          "text": [
            "age Out : 14\n",
            "height Out : 38\n",
            "weight Out : 48\n",
            "pts Out : 114\n",
            "reb Out : 155\n"
          ],
          "name": "stdout"
        }
      ]
    },
    {
      "cell_type": "code",
      "metadata": {
        "id": "w6ibHokqIzGZ",
        "colab_type": "code",
        "colab": {}
      },
      "source": [
        "def tampil(kolom):\n",
        "  print(kolom)\n",
        "  return print(df[df[kolom] == 1][kolom.replace(\" Out\",\"\")])"
      ],
      "execution_count": 0,
      "outputs": []
    },
    {
      "cell_type": "code",
      "metadata": {
        "id": "dgLnZysbKzgn",
        "colab_type": "code",
        "outputId": "7dda030b-7718-4e1b-fc0a-3ae49fec9183",
        "colab": {
          "base_uri": "https://localhost:8080/",
          "height": 1000
        }
      },
      "source": [
        "for i in kol:\n",
        "  tampil(i)\n",
        "  print(\"============================\")"
      ],
      "execution_count": 13,
      "outputs": [
        {
          "output_type": "stream",
          "text": [
            "age Out\n",
            "270      43.0\n",
            "730      41.0\n",
            "1289     41.0\n",
            "2824     41.0\n",
            "3144     41.0\n",
            "3575     42.0\n",
            "4473     41.0\n",
            "4820     44.0\n",
            "4937     42.0\n",
            "5365     43.0\n",
            "9839     41.0\n",
            "10320    41.0\n",
            "10435    42.0\n",
            "10960    43.0\n",
            "Name: age, dtype: float64\n",
            "============================\n",
            "height Out\n",
            "92      231.14\n",
            "242     228.60\n",
            "401     160.02\n",
            "483     160.02\n",
            "641     167.64\n",
            "647     228.60\n",
            "1053    228.60\n",
            "1123    160.02\n",
            "1212    231.14\n",
            "1248    165.10\n",
            "1326    165.10\n",
            "1408    231.14\n",
            "1558    228.60\n",
            "1705    160.02\n",
            "1784    165.10\n",
            "2020    160.02\n",
            "2186    228.60\n",
            "2415    228.60\n",
            "2590    165.10\n",
            "2638    228.60\n",
            "2805    165.10\n",
            "3211    228.60\n",
            "3266    228.60\n",
            "3462    165.10\n",
            "3662    228.60\n",
            "3715    228.60\n",
            "3923    165.10\n",
            "4122    228.60\n",
            "4427    165.10\n",
            "4484    165.10\n",
            "4741    228.60\n",
            "4888    165.10\n",
            "5254    228.60\n",
            "5700    228.60\n",
            "5925    165.10\n",
            "6449    165.10\n",
            "6582    228.60\n",
            "6692    165.10\n",
            "Name: height, dtype: float64\n",
            "============================\n",
            "weight Out\n",
            "331      155.582056\n",
            "406      140.613520\n",
            "469      147.417400\n",
            "480      147.417400\n",
            "641       60.327736\n",
            "650      142.881480\n",
            "1059     142.881480\n",
            "1161     147.417400\n",
            "1326      60.327736\n",
            "1556     142.881480\n",
            "1629     149.685360\n",
            "1711     142.881480\n",
            "1784      60.327736\n",
            "1799     138.799152\n",
            "2020      61.688512\n",
            "2177     142.881480\n",
            "2405     142.881480\n",
            "2590      60.327736\n",
            "2805      60.327736\n",
            "2866     151.953320\n",
            "3110     142.881480\n",
            "3211     140.613520\n",
            "3268     154.221280\n",
            "3462      60.327736\n",
            "3662     140.613520\n",
            "3718     147.417400\n",
            "3923      60.327736\n",
            "4122     140.613520\n",
            "4173     147.417400\n",
            "4427      60.327736\n",
            "4484      60.327736\n",
            "4686     147.417400\n",
            "4741     140.613520\n",
            "4888      60.327736\n",
            "5254     140.613520\n",
            "5276     147.417400\n",
            "5700     140.613520\n",
            "5716     147.417400\n",
            "5925      60.327736\n",
            "6031     147.417400\n",
            "6449      60.327736\n",
            "6451     139.706336\n",
            "6569     147.417400\n",
            "6582     140.613520\n",
            "6692      60.327736\n",
            "8472     163.293120\n",
            "8699     139.252744\n",
            "10950    141.067112\n",
            "Name: weight, dtype: float64\n",
            "============================\n",
            "pts Out\n",
            "93       26.8\n",
            "239      26.2\n",
            "381      27.4\n",
            "392      29.6\n",
            "467      28.7\n",
            "         ... \n",
            "11006    29.4\n",
            "11036    27.4\n",
            "11069    26.5\n",
            "11070    26.9\n",
            "11080    28.4\n",
            "Name: pts, Length: 114, dtype: float64\n",
            "============================\n",
            "reb Out\n",
            "0        16.1\n",
            "23       11.1\n",
            "52       11.6\n",
            "74       13.5\n",
            "155      11.4\n",
            "         ... \n",
            "10727    12.4\n",
            "10808    15.3\n",
            "10836    12.0\n",
            "10865    13.8\n",
            "10891    13.9\n",
            "Name: reb, Length: 155, dtype: float64\n",
            "============================\n"
          ],
          "name": "stdout"
        }
      ]
    },
    {
      "cell_type": "code",
      "metadata": {
        "id": "0xfxMUi0Wqtk",
        "colab_type": "code",
        "colab": {}
      },
      "source": [
        "kriteria = []\n",
        "for i in range(len(df.index)):\n",
        "  if df.iloc[i][\"age\"] <= 25 and df.iloc[i][\"height\"] >= 180 and df.iloc[i][\"weight\"] <= 90 and df.iloc[i][\"pts\"] >= 6 and df.iloc[i][\"reb\"] >= 3:\n",
        "    kriteria.append(1)\n",
        "  else:\n",
        "    kriteria.append(0)\n",
        "df[\"target\"] = kriteria"
      ],
      "execution_count": 0,
      "outputs": []
    },
    {
      "cell_type": "code",
      "metadata": {
        "id": "64NUjJZXSIPi",
        "colab_type": "code",
        "colab": {
          "base_uri": "https://localhost:8080/",
          "height": 221
        },
        "outputId": "a885f316-954c-449f-b196-9cc1a7785804"
      },
      "source": [
        "df.apply(\n",
        "    lambda x:\n",
        "    1 if (x[\"age\"]<25) & (x[\"height\"]>=180) & (x[\"weight\"]<=90) & (x[\"pts\"]>=6) & (x[\"reb\"]>=3)  else 0,\n",
        "    axis = 1 \n",
        "    )"
      ],
      "execution_count": 15,
      "outputs": [
        {
          "output_type": "execute_result",
          "data": {
            "text/plain": [
              "0        0\n",
              "1        0\n",
              "2        0\n",
              "3        0\n",
              "4        0\n",
              "        ..\n",
              "11140    0\n",
              "11141    0\n",
              "11142    0\n",
              "11143    0\n",
              "11144    0\n",
              "Length: 11145, dtype: int64"
            ]
          },
          "metadata": {
            "tags": []
          },
          "execution_count": 15
        }
      ]
    },
    {
      "cell_type": "code",
      "metadata": {
        "id": "4VWOsoEMq-Op",
        "colab_type": "code",
        "outputId": "69be875f-9251-42d8-8dd8-b7db5952ddef",
        "colab": {
          "base_uri": "https://localhost:8080/",
          "height": 68
        }
      },
      "source": [
        "df[\"target\"].value_counts() # data imbalanced"
      ],
      "execution_count": 16,
      "outputs": [
        {
          "output_type": "execute_result",
          "data": {
            "text/plain": [
              "0    10910\n",
              "1      235\n",
              "Name: target, dtype: int64"
            ]
          },
          "metadata": {
            "tags": []
          },
          "execution_count": 16
        }
      ]
    },
    {
      "cell_type": "code",
      "metadata": {
        "id": "2jdGMRFHZzRU",
        "colab_type": "code",
        "colab": {}
      },
      "source": [
        "X = df[[\"age\",\"height\",\"weight\",\"pts\",\"reb\"]]\n",
        "y = df[\"target\"]"
      ],
      "execution_count": 0,
      "outputs": []
    },
    {
      "cell_type": "markdown",
      "metadata": {
        "id": "DLwcJ2zgSNpH",
        "colab_type": "text"
      },
      "source": [
        "### Handling Imbalance Dataset"
      ]
    },
    {
      "cell_type": "code",
      "metadata": {
        "id": "OjDe65_vSQta",
        "colab_type": "code",
        "outputId": "1d6981b1-e5bb-4683-eaf6-cbf013d7abee",
        "colab": {
          "base_uri": "https://localhost:8080/",
          "height": 105
        }
      },
      "source": [
        "from imblearn.under_sampling import NearMiss"
      ],
      "execution_count": 18,
      "outputs": [
        {
          "output_type": "stream",
          "text": [
            "/usr/local/lib/python3.6/dist-packages/sklearn/externals/six.py:31: FutureWarning: The module is deprecated in version 0.21 and will be removed in version 0.23 since we've dropped support for Python 2.7. Please rely on the official version of six (https://pypi.org/project/six/).\n",
            "  \"(https://pypi.org/project/six/).\", FutureWarning)\n",
            "/usr/local/lib/python3.6/dist-packages/sklearn/utils/deprecation.py:144: FutureWarning: The sklearn.neighbors.base module is  deprecated in version 0.22 and will be removed in version 0.24. The corresponding classes / functions should instead be imported from sklearn.neighbors. Anything that cannot be imported from sklearn.neighbors is now part of the private API.\n",
            "  warnings.warn(message, FutureWarning)\n"
          ],
          "name": "stderr"
        }
      ]
    },
    {
      "cell_type": "code",
      "metadata": {
        "id": "gHWNPkU5Sgkq",
        "colab_type": "code",
        "outputId": "b32f6e79-a1a0-4ae2-c058-781ec676743e",
        "colab": {
          "base_uri": "https://localhost:8080/",
          "height": 139
        }
      },
      "source": [
        "nm = NearMiss()\n",
        "X_us,y_us = nm.fit_sample(X,y)"
      ],
      "execution_count": 19,
      "outputs": [
        {
          "output_type": "stream",
          "text": [
            "/usr/local/lib/python3.6/dist-packages/sklearn/utils/deprecation.py:87: FutureWarning: Function safe_indexing is deprecated; safe_indexing is deprecated in version 0.22 and will be removed in version 0.24.\n",
            "  warnings.warn(msg, category=FutureWarning)\n",
            "/usr/local/lib/python3.6/dist-packages/sklearn/utils/deprecation.py:87: FutureWarning: Function safe_indexing is deprecated; safe_indexing is deprecated in version 0.22 and will be removed in version 0.24.\n",
            "  warnings.warn(msg, category=FutureWarning)\n",
            "/usr/local/lib/python3.6/dist-packages/sklearn/utils/deprecation.py:87: FutureWarning: Function safe_indexing is deprecated; safe_indexing is deprecated in version 0.22 and will be removed in version 0.24.\n",
            "  warnings.warn(msg, category=FutureWarning)\n"
          ],
          "name": "stderr"
        }
      ]
    },
    {
      "cell_type": "markdown",
      "metadata": {
        "id": "AvBoD9RobKFq",
        "colab_type": "text"
      },
      "source": [
        "### Feature Scalling - Standarisasi"
      ]
    },
    {
      "cell_type": "code",
      "metadata": {
        "id": "qQJEuUHWbHMx",
        "colab_type": "code",
        "colab": {}
      },
      "source": [
        "from sklearn.preprocessing import StandardScaler\n",
        "scaler = StandardScaler()"
      ],
      "execution_count": 0,
      "outputs": []
    },
    {
      "cell_type": "code",
      "metadata": {
        "id": "WNyOV8GzcUci",
        "colab_type": "code",
        "colab": {}
      },
      "source": [
        "kolom = [\"age\",\"height\",\"weight\",\"pts\",\"reb\"]\n",
        "Xstd = pd.DataFrame(scaler.fit_transform(X_us),columns=kolom)"
      ],
      "execution_count": 0,
      "outputs": []
    },
    {
      "cell_type": "markdown",
      "metadata": {
        "id": "c8ylnmw4dYWi",
        "colab_type": "text"
      },
      "source": [
        "### Spliting Data"
      ]
    },
    {
      "cell_type": "code",
      "metadata": {
        "id": "DNKG_AHpcBOC",
        "colab_type": "code",
        "colab": {}
      },
      "source": [
        "from sklearn.model_selection import train_test_split"
      ],
      "execution_count": 0,
      "outputs": []
    },
    {
      "cell_type": "code",
      "metadata": {
        "id": "E0aoTuN2dknC",
        "colab_type": "code",
        "colab": {}
      },
      "source": [
        "x_train,x_test,y_train,y_test = train_test_split(Xstd,y_us,test_size=0.18)"
      ],
      "execution_count": 0,
      "outputs": []
    },
    {
      "cell_type": "markdown",
      "metadata": {
        "id": "vljDHX9idwzg",
        "colab_type": "text"
      },
      "source": [
        "### Fitting Model"
      ]
    },
    {
      "cell_type": "code",
      "metadata": {
        "id": "as78bVtAQbKk",
        "colab_type": "code",
        "colab": {}
      },
      "source": [
        "from sklearn.ensemble import RandomForestClassifier\n",
        "from sklearn.linear_model import LogisticRegression\n",
        "from sklearn.tree import DecisionTreeClassifier\n",
        "from sklearn.metrics import plot_roc_curve\n",
        "\n",
        "lr = LogisticRegression()\n",
        "rf = RandomForestClassifier()\n",
        "dc = DecisionTreeClassifier()"
      ],
      "execution_count": 0,
      "outputs": []
    },
    {
      "cell_type": "code",
      "metadata": {
        "id": "RbWH7zgMeJrc",
        "colab_type": "code",
        "outputId": "d8e7c9e1-8ff5-473f-a8a1-4b415d2555b3",
        "colab": {
          "base_uri": "https://localhost:8080/",
          "height": 119
        }
      },
      "source": [
        "lr.fit(x_train,y_train)\n",
        "rf.fit(x_train,y_train)\n",
        "dc.fit(x_train,y_train)"
      ],
      "execution_count": 25,
      "outputs": [
        {
          "output_type": "execute_result",
          "data": {
            "text/plain": [
              "DecisionTreeClassifier(ccp_alpha=0.0, class_weight=None, criterion='gini',\n",
              "                       max_depth=None, max_features=None, max_leaf_nodes=None,\n",
              "                       min_impurity_decrease=0.0, min_impurity_split=None,\n",
              "                       min_samples_leaf=1, min_samples_split=2,\n",
              "                       min_weight_fraction_leaf=0.0, presort='deprecated',\n",
              "                       random_state=None, splitter='best')"
            ]
          },
          "metadata": {
            "tags": []
          },
          "execution_count": 25
        }
      ]
    },
    {
      "cell_type": "code",
      "metadata": {
        "id": "HQtAJb8meCVq",
        "colab_type": "code",
        "outputId": "e1bb3c8a-24b3-4946-c3b3-08d44e0c2b34",
        "colab": {
          "base_uri": "https://localhost:8080/",
          "height": 296
        }
      },
      "source": [
        "disp = plot_roc_curve(lr,x_test,y_test)\n",
        "plot_roc_curve(rf,x_test,y_test,ax=disp.ax_)\n",
        "plot_roc_curve(dc,x_test,y_test,ax=disp.ax_)"
      ],
      "execution_count": 26,
      "outputs": [
        {
          "output_type": "execute_result",
          "data": {
            "text/plain": [
              "<sklearn.metrics._plot.roc_curve.RocCurveDisplay at 0x7f39f09d36a0>"
            ]
          },
          "metadata": {
            "tags": []
          },
          "execution_count": 26
        },
        {
          "output_type": "display_data",
          "data": {
            "image/png": "[encoded data removed]",
            "text/plain": [
              "<Figure size 432x288 with 1 Axes>"
            ]
          },
          "metadata": {
            "tags": [],
            "needs_background": "light"
          }
        }
      ]
    },
    {
      "cell_type": "code",
      "metadata": {
        "id": "OvSCBYTEf-gQ",
        "colab_type": "code",
        "outputId": "cb73b30d-dc8a-4770-99ee-7aebf30605a7",
        "colab": {
          "base_uri": "https://localhost:8080/",
          "height": 296
        }
      },
      "source": [
        "disp = plot_roc_curve(lr,x_train,y_train)\n",
        "plot_roc_curve(rf,x_train,y_train,ax=disp.ax_)\n",
        "plot_roc_curve(dc,x_train,y_train,ax=disp.ax_)"
      ],
      "execution_count": 27,
      "outputs": [
        {
          "output_type": "execute_result",
          "data": {
            "text/plain": [
              "<sklearn.metrics._plot.roc_curve.RocCurveDisplay at 0x7f39f0982dd8>"
            ]
          },
          "metadata": {
            "tags": []
          },
          "execution_count": 27
        },
        {
          "output_type": "display_data",
          "data": {
            "image/png": "[encoded data removed]",
            "text/plain": [
              "<Figure size 432x288 with 1 Axes>"
            ]
          },
          "metadata": {
            "tags": [],
            "needs_background": "light"
          }
        }
      ]
    },
    {
      "cell_type": "code",
      "metadata": {
        "id": "Km5M5wcYfI5b",
        "colab_type": "code",
        "colab": {}
      },
      "source": [
        "from sklearn.metrics import plot_confusion_matrix"
      ],
      "execution_count": 0,
      "outputs": []
    },
    {
      "cell_type": "code",
      "metadata": {
        "id": "Od19lrs9ggdI",
        "colab_type": "code",
        "outputId": "6b3809e3-5cbc-4ac9-eef8-50f573e5415b",
        "colab": {
          "base_uri": "https://localhost:8080/",
          "height": 820
        }
      },
      "source": [
        "plot_confusion_matrix(lr,x_test,y_test)\n",
        "plot_confusion_matrix(rf,x_test,y_test)\n",
        "plot_confusion_matrix(dc,x_test,y_test)"
      ],
      "execution_count": 29,
      "outputs": [
        {
          "output_type": "execute_result",
          "data": {
            "text/plain": [
              "<sklearn.metrics._plot.confusion_matrix.ConfusionMatrixDisplay at 0x7f39f0abb518>"
            ]
          },
          "metadata": {
            "tags": []
          },
          "execution_count": 29
        },
        {
          "output_type": "display_data",
          "data": {
            "image/png": "[encoded data removed]",
            "text/plain": [
              "<Figure size 432x288 with 2 Axes>"
            ]
          },
          "metadata": {
            "tags": [],
            "needs_background": "light"
          }
        },
        {
          "output_type": "display_data",
          "data": {
            "image/png": "[encoded data removed]",
            "text/plain": [
              "<Figure size 432x288 with 2 Axes>"
            ]
          },
          "metadata": {
            "tags": [],
            "needs_background": "light"
          }
        },
        {
          "output_type": "display_data",
          "data": {
            "image/png": "[encoded data removed]",
            "text/plain": [
              "<Figure size 432x288 with 2 Axes>"
            ]
          },
          "metadata": {
            "tags": [],
            "needs_background": "light"
          }
        }
      ]
    },
    {
      "cell_type": "markdown",
      "metadata": {
        "id": "2Rzail43plBn",
        "colab_type": "text"
      },
      "source": [
        "## Predict"
      ]
    },
    {
      "cell_type": "code",
      "metadata": {
        "id": "rQjiOewepmkQ",
        "colab_type": "code",
        "colab": {}
      },
      "source": [
        "from sklearn.preprocessing import StandardScaler\n",
        "scaler = StandardScaler()"
      ],
      "execution_count": 0,
      "outputs": []
    },
    {
      "cell_type": "code",
      "metadata": {
        "id": "dTDaCO8rhBdS",
        "colab_type": "code",
        "colab": {}
      },
      "source": [
        "dfPred = pd.read_csv(\"data basket.csv\")\n",
        "x_Pred = dfPred[[\"Age\",\"Height\",\"Weight\",\"Avg Points\",\"Avg Rebounds\"]]\n",
        "x_PStd = scaler.fit_transform(x_Pred)"
      ],
      "execution_count": 0,
      "outputs": []
    },
    {
      "cell_type": "code",
      "metadata": {
        "id": "DH0P02NTpMy0",
        "colab_type": "code",
        "outputId": "2aaf64a8-4cca-4adb-ccd4-fed6e3754ba3",
        "colab": {
          "base_uri": "https://localhost:8080/",
          "height": 68
        }
      },
      "source": [
        "print(rf.predict(x_PStd))\n",
        "print(dc.predict(x_PStd))\n",
        "print(lr.predict(x_PStd))"
      ],
      "execution_count": 32,
      "outputs": [
        {
          "output_type": "stream",
          "text": [
            "[1 0 0 0 0 1 0 0 1 1]\n",
            "[1 0 0 0 0 1 0 0 1 1]\n",
            "[0 0 0 0 1 1 0 0 1 0]\n"
          ],
          "name": "stdout"
        }
      ]
    },
    {
      "cell_type": "code",
      "metadata": {
        "id": "bvjeIzA95N6g",
        "colab_type": "code",
        "colab": {}
      },
      "source": [
        "dfPred[\"rekrut\"] = rf.predict(x_PStd)\n",
        "dfPred[\"rekrut\"]=dfPred[\"rekrut\"].apply(lambda x: \"Tolak\" if x == 0 else \"Rekrut\")"
      ],
      "execution_count": 0,
      "outputs": []
    },
    {
      "cell_type": "code",
      "metadata": {
        "id": "PB0Jsi18TqOC",
        "colab_type": "code",
        "outputId": "a5764142-8bbe-49a3-fb55-fead15f26447",
        "colab": {
          "base_uri": "https://localhost:8080/",
          "height": 359
        }
      },
      "source": [
        "dfPred"
      ],
      "execution_count": 34,
      "outputs": [
        {
          "output_type": "execute_result",
          "data": {
            "text/html": [
              "<div>\n",
              "<style scoped>\n",
              "    .dataframe tbody tr th:only-of-type {\n",
              "        vertical-align: middle;\n",
              "    }\n",
              "\n",
              "    .dataframe tbody tr th {\n",
              "        vertical-align: top;\n",
              "    }\n",
              "\n",
              "    .dataframe thead th {\n",
              "        text-align: right;\n",
              "    }\n",
              "</style>\n",
              "<table border=\"1\" class=\"dataframe\">\n",
              "  <thead>\n",
              "    <tr style=\"text-align: right;\">\n",
              "      <th></th>\n",
              "      <th>Name</th>\n",
              "      <th>Club</th>\n",
              "      <th>Country</th>\n",
              "      <th>Age</th>\n",
              "      <th>Height</th>\n",
              "      <th>Weight</th>\n",
              "      <th>Avg Points</th>\n",
              "      <th>Avg Rebounds</th>\n",
              "      <th>rekrut</th>\n",
              "    </tr>\n",
              "  </thead>\n",
              "  <tbody>\n",
              "    <tr>\n",
              "      <th>0</th>\n",
              "      <td>Andakara Prastawa Dyaksa</td>\n",
              "      <td>Pelita Jaya Bakrie</td>\n",
              "      <td>Indonesia</td>\n",
              "      <td>24</td>\n",
              "      <td>190</td>\n",
              "      <td>90</td>\n",
              "      <td>7</td>\n",
              "      <td>6</td>\n",
              "      <td>Rekrut</td>\n",
              "    </tr>\n",
              "    <tr>\n",
              "      <th>1</th>\n",
              "      <td>Reggie Mononimbar</td>\n",
              "      <td>Pelita Jaya Bakrie</td>\n",
              "      <td>Indonesia</td>\n",
              "      <td>21</td>\n",
              "      <td>185</td>\n",
              "      <td>86</td>\n",
              "      <td>6</td>\n",
              "      <td>3</td>\n",
              "      <td>Tolak</td>\n",
              "    </tr>\n",
              "    <tr>\n",
              "      <th>2</th>\n",
              "      <td>Hardianus Lakudu</td>\n",
              "      <td>Satria Muda Pertamina Jakarta</td>\n",
              "      <td>Indonesia</td>\n",
              "      <td>23</td>\n",
              "      <td>178</td>\n",
              "      <td>83</td>\n",
              "      <td>10</td>\n",
              "      <td>3</td>\n",
              "      <td>Tolak</td>\n",
              "    </tr>\n",
              "    <tr>\n",
              "      <th>3</th>\n",
              "      <td>Kevin Yonas Sitorus</td>\n",
              "      <td>Satria Muda Pertamina Jakarta</td>\n",
              "      <td>Indonesia</td>\n",
              "      <td>26</td>\n",
              "      <td>185</td>\n",
              "      <td>75</td>\n",
              "      <td>11</td>\n",
              "      <td>4</td>\n",
              "      <td>Tolak</td>\n",
              "    </tr>\n",
              "    <tr>\n",
              "      <th>4</th>\n",
              "      <td>Arki Dikania Wisnu</td>\n",
              "      <td>Satria Muda Pertamina Jakarta</td>\n",
              "      <td>Indonesia</td>\n",
              "      <td>20</td>\n",
              "      <td>183</td>\n",
              "      <td>80</td>\n",
              "      <td>5</td>\n",
              "      <td>2</td>\n",
              "      <td>Tolak</td>\n",
              "    </tr>\n",
              "    <tr>\n",
              "      <th>5</th>\n",
              "      <td>Laurentius Steven Oei</td>\n",
              "      <td>Satria Muda Pertamina Jakarta</td>\n",
              "      <td>Indonesia</td>\n",
              "      <td>21</td>\n",
              "      <td>191</td>\n",
              "      <td>85</td>\n",
              "      <td>4</td>\n",
              "      <td>10</td>\n",
              "      <td>Rekrut</td>\n",
              "    </tr>\n",
              "    <tr>\n",
              "      <th>6</th>\n",
              "      <td>Mei Joni</td>\n",
              "      <td>Stapac</td>\n",
              "      <td>Indonesia</td>\n",
              "      <td>25</td>\n",
              "      <td>188</td>\n",
              "      <td>90</td>\n",
              "      <td>7</td>\n",
              "      <td>5</td>\n",
              "      <td>Tolak</td>\n",
              "    </tr>\n",
              "    <tr>\n",
              "      <th>7</th>\n",
              "      <td>Vincent Rivaldi Kosasih</td>\n",
              "      <td>Stapac</td>\n",
              "      <td>Indonesia</td>\n",
              "      <td>23</td>\n",
              "      <td>179</td>\n",
              "      <td>87</td>\n",
              "      <td>1</td>\n",
              "      <td>2</td>\n",
              "      <td>Tolak</td>\n",
              "    </tr>\n",
              "    <tr>\n",
              "      <th>8</th>\n",
              "      <td>Hardian Wicaksono</td>\n",
              "      <td>Pacific Caesar Surabaya</td>\n",
              "      <td>Indonesia</td>\n",
              "      <td>21</td>\n",
              "      <td>177</td>\n",
              "      <td>80</td>\n",
              "      <td>9</td>\n",
              "      <td>8</td>\n",
              "      <td>Rekrut</td>\n",
              "    </tr>\n",
              "    <tr>\n",
              "      <th>9</th>\n",
              "      <td>Brandon Jawato</td>\n",
              "      <td>Louvre Surabaya</td>\n",
              "      <td>Indonesia</td>\n",
              "      <td>24</td>\n",
              "      <td>182</td>\n",
              "      <td>85</td>\n",
              "      <td>6</td>\n",
              "      <td>5</td>\n",
              "      <td>Rekrut</td>\n",
              "    </tr>\n",
              "  </tbody>\n",
              "</table>\n",
              "</div>"
            ],
            "text/plain": [
              "                       Name  ...  rekrut\n",
              "0  Andakara Prastawa Dyaksa  ...  Rekrut\n",
              "1         Reggie Mononimbar  ...   Tolak\n",
              "2          Hardianus Lakudu  ...   Tolak\n",
              "3       Kevin Yonas Sitorus  ...   Tolak\n",
              "4        Arki Dikania Wisnu  ...   Tolak\n",
              "5     Laurentius Steven Oei  ...  Rekrut\n",
              "6                  Mei Joni  ...   Tolak\n",
              "7   Vincent Rivaldi Kosasih  ...   Tolak\n",
              "8         Hardian Wicaksono  ...  Rekrut\n",
              "9            Brandon Jawato  ...  Rekrut\n",
              "\n",
              "[10 rows x 9 columns]"
            ]
          },
          "metadata": {
            "tags": []
          },
          "execution_count": 34
        }
      ]
    }
  ]
}